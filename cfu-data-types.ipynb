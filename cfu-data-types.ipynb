{
 "cells": [
  {
   "cell_type": "markdown",
   "metadata": {},
   "source": [
    "# CFU | Data Types"
   ]
  },
  {
   "cell_type": "markdown",
   "metadata": {},
   "source": [
    "## Working with Data Types"
   ]
  },
  {
   "cell_type": "markdown",
   "metadata": {},
   "source": [
    "Objective: Practice working with different data types and their corresponding operations."
   ]
  },
  {
   "cell_type": "markdown",
   "metadata": {},
   "source": [
    "### Exercise 1: Calculate remaining salary"
   ]
  },
  {
   "cell_type": "markdown",
   "metadata": {},
   "source": [
    "In this exercise, prompt the user to enter their personal information such as name, age, address, salary, and expenses, and then perform some calculations to determine how much money they have left after expenses. \n",
    "\n",
    "Use data type casting to ensure that the age, salary, and expenses are stored as integers or floats, as appropriate, and round the remaining money to one decimal. \n",
    "\n",
    "Use a boolean variable to indicate whether the remaining salary is greater than or equal to 500. \n",
    "\n",
    "Finally, you will use string formatting to print a message to the screen in the following format: \n",
    "\"*name*, who is *age* years old, and lives in *address* has *remaining_salary* dollars left from her salary after expenses. It is *is_salary_good* that she has more than $500 left.\", using the mentioned variables.\n",
    "\n",
    "*Hint:* \n",
    "- *You can use the input() function to ask the user to enter their information. Beware that input() function returns a String.*\n",
    "- *You can round the remaining salary to one decimal using the round() function.*\n",
    "- *Use data type conversion functions. Recommended external resources: [Data type conversion](https://www.geeksforgeeks.org/type-conversion-in-python/)*"
   ]
  },
  {
   "cell_type": "code",
   "execution_count": 1,
   "metadata": {},
   "outputs": [
    {
     "name": "stdout",
     "output_type": "stream",
     "text": [
      "{'name': 'Daniela', 'age': 34, 'address': 'Valencia', 'salary': 9000.0, 'expenses': 1500.0}\n",
      "Name <class 'str'>\n",
      "Age <class 'int'>\n",
      "Address <class 'str'>\n",
      "Salary <class 'float'>\n",
      "Expenses <class 'float'>\n",
      "7500.0\n",
      "Daniela, who is 34 years old, and lives in Valencia has 7500.0 dollars left from her salary after expenses. It is a good salary that she has more than $500 left.\n"
     ]
    }
   ],
   "source": [
    "# Your code here\n",
    "#the list with the information to request\n",
    "data = ['name', 'age', 'address', 'salary', 'expenses']\n",
    "#dictionary to recover the data\n",
    "personal_information = {} \n",
    "#get the data from the user\n",
    "for key in data: \n",
    "    value = input(f\"Please enter your {key}\").strip().capitalize()\n",
    "    if key in ['age', 'salary', 'expenses']:\n",
    "        while value.isdigit() == False:\n",
    "            value = input(f\"Please enter a number for {key}\").strip().capitalize()\n",
    "\n",
    "    personal_information[key]= value\n",
    "#data type casting to ensure that the age, salary, and expenses are stored as integers or floats\n",
    "personal_information['age'] = int(personal_information['age'])\n",
    "personal_information['salary'] = round(float(personal_information['salary']),1)\n",
    "personal_information['expenses'] = round(float(personal_information['expenses']),1)\n",
    "print(personal_information)\n",
    "\n",
    "for key, value in personal_information.items():\n",
    "    print(key.capitalize(), type(value))\n",
    "\n",
    "savings = personal_information['salary'] - personal_information['expenses']\n",
    "print(savings)\n",
    "is_salary_good = savings >= 500\n",
    "message1 = f\"{personal_information['name']}, who is {personal_information['age']} years old, and lives in {personal_information['address']} has {savings} dollars left from her salary after expenses. It is a good salary that she has more than $500 left.\"\n",
    "message2 = f\"{personal_information['name']}, who is {personal_information['age']} years old, and lives in {personal_information['address']} has {savings} dollars left from her salary after expenses. It is not a good salary that she hasn't more than $500 left.\"\n",
    "\n",
    "if is_salary_good: \n",
    "    print(message1)\n",
    "else: \n",
    "    print(message2)\n"
   ]
  },
  {
   "cell_type": "markdown",
   "metadata": {},
   "source": [
    "\n",
    "### Exercise 2: Text Cleaning and Concatenation"
   ]
  },
  {
   "cell_type": "markdown",
   "metadata": {},
   "source": [
    "Write code that takes text from the variable `poem`, removes the punctuation and leaves everything in lowercase. \n",
    "\n",
    "Concatenate the resulting string with the string \"python is awesome!\" and store the result in a new variable. \n",
    "\n",
    "Print the length of the new string.\n",
    "\n",
    "Split the string into a list of strings using the space delimiter, save it in a variable `poem_list` and print it. \n",
    "\n",
    "*Hint:*\n",
    "\n",
    "- *You can use the len() function to get the length of a string.*\n",
    "- *Search string methods to accomplish the other steps. Recommended External Resources: [Python String Methods](https://www.w3schools.com/python/python_ref_string.asp)*\n",
    "- *Use method chaining to simplify your code. If you are not sure what it is, read this tutorial before: https://pyneng.readthedocs.io/en/latest/book/04_data_structures/method_chaining.html*\n"
   ]
  },
  {
   "cell_type": "code",
   "execution_count": 3,
   "metadata": {},
   "outputs": [],
   "source": [
    "poem = \"\"\"Some say the world will end in fire,\n",
    "Some say in ice.\n",
    "From what I’ve tasted of desire\n",
    "I hold with those who favor fire.\n",
    "But if it had to perish twice,\n",
    "I think I know enough of hate\n",
    "To say that for destruction ice\n",
    "Is also great\n",
    "And would suffice.\"\"\""
   ]
  },
  {
   "cell_type": "code",
   "execution_count": 4,
   "metadata": {},
   "outputs": [
    {
     "name": "stdout",
     "output_type": "stream",
     "text": [
      "some say the world will end in fire\n",
      "some say in ice\n",
      "from what i’ve tasted of desire\n",
      "i hold with those who favor fire\n",
      "but if it had to perish twice\n",
      "i think i know enough of hate\n",
      "to say that for destruction ice\n",
      "is also great\n",
      "and would suffice python is awesome! \n",
      "\n",
      "The length of the poem is: 259 characters \n",
      "\n",
      "['some', 'say', 'the', 'world', 'will', 'end', 'in', 'fire', 'some', 'say', 'in', 'ice', 'from', 'what', 'i’ve', 'tasted', 'of', 'desire', 'i', 'hold', 'with', 'those', 'who', 'favor', 'fire', 'but', 'if', 'it', 'had', 'to', 'perish', 'twice', 'i', 'think', 'i', 'know', 'enough', 'of', 'hate', 'to', 'say', 'that', 'for', 'destruction', 'ice', 'is', 'also', 'great', 'and', 'would', 'suffice', 'python', 'is', 'awesome!']\n"
     ]
    }
   ],
   "source": [
    "# Your code here\n",
    "import string\n",
    "\n",
    "new_poem = \"\"\n",
    "for char in poem:\n",
    "    if char not in string.punctuation+\"´\":\n",
    "        new_poem += char.lower()\n",
    "\n",
    "poem_python = new_poem+\" python is awesome!\" \n",
    "print(poem_python, \"\\n\")\n",
    "#print(string.punctuation)\n",
    "#print(string.ascii_lowercase)\n",
    "print(\"The length of the poem is:\", len(poem_python), \"characters \\n\")\n",
    "\n",
    "poem_list = poem_python.replace(\"\\n\", \" \").split(\" \")\n",
    "print(poem_list)\n"
   ]
  },
  {
   "cell_type": "code",
   "execution_count": null,
   "metadata": {},
   "outputs": [],
   "source": []
  }
 ],
 "metadata": {
  "kernelspec": {
   "display_name": "Python 3 (ipykernel)",
   "language": "python",
   "name": "python3"
  },
  "language_info": {
   "codemirror_mode": {
    "name": "ipython",
    "version": 3
   },
   "file_extension": ".py",
   "mimetype": "text/x-python",
   "name": "python",
   "nbconvert_exporter": "python",
   "pygments_lexer": "ipython3",
   "version": "3.11.7"
  }
 },
 "nbformat": 4,
 "nbformat_minor": 4
}
